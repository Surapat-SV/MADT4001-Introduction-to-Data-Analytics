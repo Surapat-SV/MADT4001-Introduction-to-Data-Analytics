{
  "cells": [
    {
      "cell_type": "markdown",
      "id": "cae2a01f",
      "metadata": {
        "id": "cae2a01f"
      },
      "source": [
        "# Welcome to Python's World"
      ]
    },
    {
      "cell_type": "markdown",
      "id": "0cf15b99",
      "metadata": {
        "id": "0cf15b99"
      },
      "source": [
        "Show: Hello, world"
      ]
    },
    {
      "cell_type": "code",
      "execution_count": 2,
      "id": "3f99231c",
      "metadata": {
        "id": "3f99231c",
        "colab": {
          "base_uri": "https://localhost:8080/"
        },
        "outputId": "9d9a3698-f139-4f69-f652-72b45b7a7f3b"
      },
      "outputs": [
        {
          "output_type": "stream",
          "name": "stdout",
          "text": [
            "Hello, world\n"
          ]
        }
      ],
      "source": [
        "print(\"Hello, world\")"
      ]
    },
    {
      "cell_type": "markdown",
      "source": [
        "Assignment statements"
      ],
      "metadata": {
        "id": "LaEO3rfvlsLI"
      },
      "id": "LaEO3rfvlsLI"
    },
    {
      "cell_type": "code",
      "source": [
        "n = 17\n",
        "pi = 3.1415926535897932"
      ],
      "metadata": {
        "id": "w0QonJR-llyy"
      },
      "execution_count": 3,
      "outputs": [],
      "id": "w0QonJR-llyy"
    },
    {
      "cell_type": "code",
      "source": [
        "n"
      ],
      "metadata": {
        "id": "01yQliNal_cY",
        "colab": {
          "base_uri": "https://localhost:8080/"
        },
        "outputId": "12f3ad90-1c27-4687-865b-d81a5aa2804c"
      },
      "execution_count": 4,
      "outputs": [
        {
          "output_type": "execute_result",
          "data": {
            "text/plain": [
              "17"
            ]
          },
          "metadata": {},
          "execution_count": 4
        }
      ],
      "id": "01yQliNal_cY"
    },
    {
      "cell_type": "code",
      "source": [
        "pi"
      ],
      "metadata": {
        "id": "CWfGtoJbmAbp",
        "colab": {
          "base_uri": "https://localhost:8080/"
        },
        "outputId": "0dafec2a-f3a3-46fc-89f6-0e0ab046e422"
      },
      "execution_count": 5,
      "outputs": [
        {
          "output_type": "execute_result",
          "data": {
            "text/plain": [
              "3.141592653589793"
            ]
          },
          "metadata": {},
          "execution_count": 5
        }
      ],
      "id": "CWfGtoJbmAbp"
    },
    {
      "cell_type": "markdown",
      "source": [
        "Numeric Data Types and Operators"
      ],
      "metadata": {
        "id": "TPzh8JbGmJpu"
      },
      "id": "TPzh8JbGmJpu"
    },
    {
      "cell_type": "code",
      "source": [
        "# addition\n",
        "11 + 56"
      ],
      "metadata": {
        "id": "sOiTeiGZmH3w",
        "colab": {
          "base_uri": "https://localhost:8080/"
        },
        "outputId": "1cf58221-9bea-4ef2-844c-66819c0ce97c"
      },
      "execution_count": 6,
      "outputs": [
        {
          "output_type": "execute_result",
          "data": {
            "text/plain": [
              "67"
            ]
          },
          "metadata": {},
          "execution_count": 6
        }
      ],
      "id": "sOiTeiGZmH3w"
    },
    {
      "cell_type": "code",
      "source": [
        "# subtraction\n",
        "23 - 52"
      ],
      "metadata": {
        "id": "11p6lKM9mID6",
        "colab": {
          "base_uri": "https://localhost:8080/"
        },
        "outputId": "6e3c42b8-5944-40ee-daab-abc46166d8d2"
      },
      "execution_count": 7,
      "outputs": [
        {
          "output_type": "execute_result",
          "data": {
            "text/plain": [
              "-29"
            ]
          },
          "metadata": {},
          "execution_count": 7
        }
      ],
      "id": "11p6lKM9mID6"
    },
    {
      "cell_type": "code",
      "source": [
        "# multiplication\n",
        "4 * 5"
      ],
      "metadata": {
        "id": "lF8ZsLudmIHA",
        "colab": {
          "base_uri": "https://localhost:8080/"
        },
        "outputId": "714a0826-61a2-4a04-9a3f-571cb7dfe824"
      },
      "execution_count": 8,
      "outputs": [
        {
          "output_type": "execute_result",
          "data": {
            "text/plain": [
              "20"
            ]
          },
          "metadata": {},
          "execution_count": 8
        }
      ],
      "id": "lF8ZsLudmIHA"
    },
    {
      "cell_type": "code",
      "source": [
        "# exponentiation\n",
        "2 ** 5"
      ],
      "metadata": {
        "id": "nx-Y24HhmIKE",
        "colab": {
          "base_uri": "https://localhost:8080/"
        },
        "outputId": "29d8cb22-ccd9-4d14-87ee-e44d67eda385"
      },
      "execution_count": 9,
      "outputs": [
        {
          "output_type": "execute_result",
          "data": {
            "text/plain": [
              "32"
            ]
          },
          "metadata": {},
          "execution_count": 9
        }
      ],
      "id": "nx-Y24HhmIKE"
    },
    {
      "cell_type": "code",
      "source": [
        "# division\n",
        "9 / 2"
      ],
      "metadata": {
        "id": "82yAlljPmIM5",
        "colab": {
          "base_uri": "https://localhost:8080/"
        },
        "outputId": "abb2470c-3223-414e-e3bd-a8fc589e2c02"
      },
      "execution_count": 10,
      "outputs": [
        {
          "output_type": "execute_result",
          "data": {
            "text/plain": [
              "4.5"
            ]
          },
          "metadata": {},
          "execution_count": 10
        }
      ],
      "id": "82yAlljPmIM5"
    },
    {
      "cell_type": "code",
      "source": [
        "# integer division\n",
        "9 // 2"
      ],
      "metadata": {
        "id": "mQhrT_tJmhZl",
        "colab": {
          "base_uri": "https://localhost:8080/"
        },
        "outputId": "be5282cd-47f2-4dff-e174-851372c37bc8"
      },
      "execution_count": 11,
      "outputs": [
        {
          "output_type": "execute_result",
          "data": {
            "text/plain": [
              "4"
            ]
          },
          "metadata": {},
          "execution_count": 11
        }
      ],
      "id": "mQhrT_tJmhZl"
    },
    {
      "cell_type": "code",
      "source": [
        "# modulo\n",
        "9 % 2"
      ],
      "metadata": {
        "id": "lXQX10g9mhc9",
        "colab": {
          "base_uri": "https://localhost:8080/"
        },
        "outputId": "68d90b0b-77c8-473b-b9e0-688e9031ba1e"
      },
      "execution_count": 12,
      "outputs": [
        {
          "output_type": "execute_result",
          "data": {
            "text/plain": [
              "1"
            ]
          },
          "metadata": {},
          "execution_count": 12
        }
      ],
      "id": "lXQX10g9mhc9"
    },
    {
      "cell_type": "code",
      "source": [
        "(4 + 5 * 3) ** 2"
      ],
      "metadata": {
        "id": "G0o5r-NNmuSO",
        "colab": {
          "base_uri": "https://localhost:8080/"
        },
        "outputId": "dd371bf8-1233-47c8-c461-48965ab25225"
      },
      "execution_count": 13,
      "outputs": [
        {
          "output_type": "execute_result",
          "data": {
            "text/plain": [
              "361"
            ]
          },
          "metadata": {},
          "execution_count": 13
        }
      ],
      "id": "G0o5r-NNmuSO"
    },
    {
      "cell_type": "markdown",
      "source": [
        "String Data Type and Operators"
      ],
      "metadata": {
        "id": "Hr078-_Km948"
      },
      "id": "Hr078-_Km948"
    },
    {
      "cell_type": "code",
      "source": [
        "'Hello, world' == \"Hello, world\""
      ],
      "metadata": {
        "id": "aYWux1s7nAC3",
        "colab": {
          "base_uri": "https://localhost:8080/"
        },
        "outputId": "34341f2c-e61e-402d-8d92-b97a622f4528"
      },
      "execution_count": 14,
      "outputs": [
        {
          "output_type": "execute_result",
          "data": {
            "text/plain": [
              "True"
            ]
          },
          "metadata": {},
          "execution_count": 14
        }
      ],
      "id": "aYWux1s7nAC3"
    },
    {
      "cell_type": "code",
      "source": [
        "\"i\\tlove python\\nso much\\\"\""
      ],
      "metadata": {
        "id": "-ZiZC5qynGRY",
        "colab": {
          "base_uri": "https://localhost:8080/",
          "height": 35
        },
        "outputId": "2679ce6e-7367-4e26-adf4-d593bebdba53"
      },
      "execution_count": 15,
      "outputs": [
        {
          "output_type": "execute_result",
          "data": {
            "text/plain": [
              "'i\\tlove python\\nso much\"'"
            ],
            "application/vnd.google.colaboratory.intrinsic+json": {
              "type": "string"
            }
          },
          "metadata": {},
          "execution_count": 15
        }
      ],
      "id": "-ZiZC5qynGRY"
    },
    {
      "cell_type": "markdown",
      "source": [
        "Function calls"
      ],
      "metadata": {
        "id": "3tnsFsP1njFR"
      },
      "id": "3tnsFsP1njFR"
    },
    {
      "cell_type": "code",
      "source": [
        "print(\"i\\tlove python\\nso much\\\"\")"
      ],
      "metadata": {
        "id": "uvoLWG_ZnGdg",
        "colab": {
          "base_uri": "https://localhost:8080/"
        },
        "outputId": "8b19fb66-4970-4e1c-841b-174b49c84772"
      },
      "execution_count": 16,
      "outputs": [
        {
          "output_type": "stream",
          "name": "stdout",
          "text": [
            "i\tlove python\n",
            "so much\"\n"
          ]
        }
      ],
      "id": "uvoLWG_ZnGdg"
    },
    {
      "cell_type": "code",
      "source": [
        "print(\"Hello, world\")"
      ],
      "metadata": {
        "id": "NxcfLx2pnzFe",
        "colab": {
          "base_uri": "https://localhost:8080/"
        },
        "outputId": "35e44494-e083-43c8-d335-9c5f5a4e5da6"
      },
      "execution_count": 17,
      "outputs": [
        {
          "output_type": "stream",
          "name": "stdout",
          "text": [
            "Hello, world\n"
          ]
        }
      ],
      "id": "NxcfLx2pnzFe"
    },
    {
      "cell_type": "markdown",
      "source": [
        "Data Type Conversion"
      ],
      "metadata": {
        "id": "o9u8tHSGoCGO"
      },
      "id": "o9u8tHSGoCGO"
    },
    {
      "cell_type": "code",
      "source": [
        "str(000)"
      ],
      "metadata": {
        "id": "LKiluvtHoEZd",
        "colab": {
          "base_uri": "https://localhost:8080/",
          "height": 35
        },
        "outputId": "59cf565b-f212-41a6-b4d7-67e1d24ab3f4"
      },
      "execution_count": 19,
      "outputs": [
        {
          "output_type": "execute_result",
          "data": {
            "text/plain": [
              "'0'"
            ],
            "application/vnd.google.colaboratory.intrinsic+json": {
              "type": "string"
            }
          },
          "metadata": {},
          "execution_count": 19
        }
      ],
      "id": "LKiluvtHoEZd"
    },
    {
      "cell_type": "code",
      "source": [
        "int(\"123\")"
      ],
      "metadata": {
        "id": "ynTzkYSboEW2",
        "colab": {
          "base_uri": "https://localhost:8080/"
        },
        "outputId": "c1a214d6-d9da-4b6f-95b4-6679ea209a94"
      },
      "execution_count": 20,
      "outputs": [
        {
          "output_type": "execute_result",
          "data": {
            "text/plain": [
              "123"
            ]
          },
          "metadata": {},
          "execution_count": 20
        }
      ],
      "id": "ynTzkYSboEW2"
    },
    {
      "cell_type": "code",
      "source": [
        "int(\"4\")"
      ],
      "metadata": {
        "id": "MwLO9TBaoET7",
        "colab": {
          "base_uri": "https://localhost:8080/"
        },
        "outputId": "f4bbfc2e-2e67-494f-f76a-4e98c0b06be1"
      },
      "execution_count": 23,
      "outputs": [
        {
          "output_type": "execute_result",
          "data": {
            "text/plain": [
              "4"
            ]
          },
          "metadata": {},
          "execution_count": 23
        }
      ],
      "id": "MwLO9TBaoET7"
    },
    {
      "cell_type": "code",
      "source": [
        "float(\"123\")"
      ],
      "metadata": {
        "id": "MDlrKazcoEK0",
        "colab": {
          "base_uri": "https://localhost:8080/"
        },
        "outputId": "78312bd4-a9bb-4209-81f3-23adb697c3c4"
      },
      "execution_count": 22,
      "outputs": [
        {
          "output_type": "execute_result",
          "data": {
            "text/plain": [
              "123.0"
            ]
          },
          "metadata": {},
          "execution_count": 22
        }
      ],
      "id": "MDlrKazcoEK0"
    },
    {
      "cell_type": "code",
      "source": [
        "float(\"4.56\")"
      ],
      "metadata": {
        "id": "WlJdgPbKoQIB",
        "colab": {
          "base_uri": "https://localhost:8080/"
        },
        "outputId": "0a64674c-45aa-4447-f711-5deba15c0828"
      },
      "execution_count": 24,
      "outputs": [
        {
          "output_type": "execute_result",
          "data": {
            "text/plain": [
              "4.56"
            ]
          },
          "metadata": {},
          "execution_count": 24
        }
      ],
      "id": "WlJdgPbKoQIB"
    },
    {
      "cell_type": "markdown",
      "source": [
        "Built-in Functions"
      ],
      "metadata": {
        "id": "LMejKZfioa1Z"
      },
      "id": "LMejKZfioa1Z"
    },
    {
      "cell_type": "code",
      "source": [
        "len(\"Hello, world\")"
      ],
      "metadata": {
        "id": "2jYo83YVn9CX",
        "colab": {
          "base_uri": "https://localhost:8080/"
        },
        "outputId": "195036c1-0311-40cd-eed9-ef6f7eab0d3c"
      },
      "execution_count": 25,
      "outputs": [
        {
          "output_type": "execute_result",
          "data": {
            "text/plain": [
              "12"
            ]
          },
          "metadata": {},
          "execution_count": 25
        }
      ],
      "id": "2jYo83YVn9CX"
    },
    {
      "cell_type": "code",
      "source": [
        "max(1, 2, 3, 4, 5)"
      ],
      "metadata": {
        "id": "dH3dWQZPodVY",
        "colab": {
          "base_uri": "https://localhost:8080/"
        },
        "outputId": "8fb4510a-8cd6-431a-f722-5f5c7a2f4026"
      },
      "execution_count": 26,
      "outputs": [
        {
          "output_type": "execute_result",
          "data": {
            "text/plain": [
              "5"
            ]
          },
          "metadata": {},
          "execution_count": 26
        }
      ],
      "id": "dH3dWQZPodVY"
    },
    {
      "cell_type": "markdown",
      "source": [
        "String Methods"
      ],
      "metadata": {
        "id": "EWF1R6uVosz3"
      },
      "id": "EWF1R6uVosz3"
    },
    {
      "cell_type": "code",
      "source": [
        "\"hello, world\".capitalize()"
      ],
      "metadata": {
        "id": "xg6QO5UEovMj",
        "colab": {
          "base_uri": "https://localhost:8080/",
          "height": 35
        },
        "outputId": "10f04cf5-0578-4a7c-af8f-e414e412e7db"
      },
      "execution_count": 27,
      "outputs": [
        {
          "output_type": "execute_result",
          "data": {
            "text/plain": [
              "'Hello, world'"
            ],
            "application/vnd.google.colaboratory.intrinsic+json": {
              "type": "string"
            }
          },
          "metadata": {},
          "execution_count": 27
        }
      ],
      "id": "xg6QO5UEovMj"
    },
    {
      "cell_type": "code",
      "source": [
        "# capitalize(\"hello, world\")\n",
        "\"goodbye\".capitalize()"
      ],
      "metadata": {
        "id": "vJY1cITLfdt3",
        "colab": {
          "base_uri": "https://localhost:8080/",
          "height": 35
        },
        "outputId": "9a97f777-a3a4-4e1b-8d15-92c038dd9d35"
      },
      "id": "vJY1cITLfdt3",
      "execution_count": 28,
      "outputs": [
        {
          "output_type": "execute_result",
          "data": {
            "text/plain": [
              "'Goodbye'"
            ],
            "application/vnd.google.colaboratory.intrinsic+json": {
              "type": "string"
            }
          },
          "metadata": {},
          "execution_count": 28
        }
      ]
    },
    {
      "cell_type": "code",
      "source": [
        "\"hello, world\".title()"
      ],
      "metadata": {
        "id": "WkSGnisjovYU",
        "colab": {
          "base_uri": "https://localhost:8080/",
          "height": 35
        },
        "outputId": "909c4ef7-df3b-44d6-b958-827eb5b67497"
      },
      "execution_count": 29,
      "outputs": [
        {
          "output_type": "execute_result",
          "data": {
            "text/plain": [
              "'Hello, World'"
            ],
            "application/vnd.google.colaboratory.intrinsic+json": {
              "type": "string"
            }
          },
          "metadata": {},
          "execution_count": 29
        }
      ],
      "id": "WkSGnisjovYU"
    },
    {
      "cell_type": "code",
      "source": [
        "\"hello, world\".upper()"
      ],
      "metadata": {
        "id": "y4JNJJSyovb_",
        "colab": {
          "base_uri": "https://localhost:8080/",
          "height": 35
        },
        "outputId": "9cb178c3-6926-42ba-e55b-2bb79f7c8991"
      },
      "execution_count": 30,
      "outputs": [
        {
          "output_type": "execute_result",
          "data": {
            "text/plain": [
              "'HELLO, WORLD'"
            ],
            "application/vnd.google.colaboratory.intrinsic+json": {
              "type": "string"
            }
          },
          "metadata": {},
          "execution_count": 30
        }
      ],
      "id": "y4JNJJSyovb_"
    },
    {
      "cell_type": "code",
      "source": [
        "\"hello, world\".lower()"
      ],
      "metadata": {
        "id": "kNA-JERhovnp",
        "colab": {
          "base_uri": "https://localhost:8080/",
          "height": 35
        },
        "outputId": "6fd9394c-4609-4057-822f-3e9545685456"
      },
      "execution_count": 31,
      "outputs": [
        {
          "output_type": "execute_result",
          "data": {
            "text/plain": [
              "'hello, world'"
            ],
            "application/vnd.google.colaboratory.intrinsic+json": {
              "type": "string"
            }
          },
          "metadata": {},
          "execution_count": 31
        }
      ],
      "id": "kNA-JERhovnp"
    },
    {
      "cell_type": "code",
      "source": [
        "\"hello5555\".isalpha()"
      ],
      "metadata": {
        "id": "RwMm9WJfgSzC",
        "colab": {
          "base_uri": "https://localhost:8080/"
        },
        "outputId": "bcc38f8d-b134-461a-e28d-51e591ae6232"
      },
      "id": "RwMm9WJfgSzC",
      "execution_count": 32,
      "outputs": [
        {
          "output_type": "execute_result",
          "data": {
            "text/plain": [
              "False"
            ]
          },
          "metadata": {},
          "execution_count": 32
        }
      ]
    },
    {
      "cell_type": "markdown",
      "source": [
        "List"
      ],
      "metadata": {
        "id": "owa5sWXjo6tR"
      },
      "id": "owa5sWXjo6tR"
    },
    {
      "cell_type": "code",
      "source": [
        "lis = ['x', 'y', 'z', 1, 2, 3]\n",
        "lis"
      ],
      "metadata": {
        "id": "yhj6tLcJo9C2",
        "colab": {
          "base_uri": "https://localhost:8080/"
        },
        "outputId": "806a520d-f516-4851-e21b-06baadf51563"
      },
      "execution_count": 33,
      "outputs": [
        {
          "output_type": "execute_result",
          "data": {
            "text/plain": [
              "['x', 'y', 'z', 1, 2, 3]"
            ]
          },
          "metadata": {},
          "execution_count": 33
        }
      ],
      "id": "yhj6tLcJo9C2"
    },
    {
      "cell_type": "code",
      "source": [
        "lis[1]"
      ],
      "metadata": {
        "id": "cZXiICSapADj",
        "colab": {
          "base_uri": "https://localhost:8080/",
          "height": 35
        },
        "outputId": "3031bb28-dbc5-401f-ccc8-cf496a5e0bff"
      },
      "execution_count": 34,
      "outputs": [
        {
          "output_type": "execute_result",
          "data": {
            "text/plain": [
              "'y'"
            ],
            "application/vnd.google.colaboratory.intrinsic+json": {
              "type": "string"
            }
          },
          "metadata": {},
          "execution_count": 34
        }
      ],
      "id": "cZXiICSapADj"
    },
    {
      "cell_type": "code",
      "source": [
        "lis[-2]"
      ],
      "metadata": {
        "id": "uuoLZT3DpJLA",
        "colab": {
          "base_uri": "https://localhost:8080/"
        },
        "outputId": "59cc3833-7a8f-45ef-c2ae-0b99d0a161c6"
      },
      "execution_count": 35,
      "outputs": [
        {
          "output_type": "execute_result",
          "data": {
            "text/plain": [
              "2"
            ]
          },
          "metadata": {},
          "execution_count": 35
        }
      ],
      "id": "uuoLZT3DpJLA"
    },
    {
      "cell_type": "code",
      "source": [
        "lis[-1:-6:-1]"
      ],
      "metadata": {
        "id": "7D4Vl--JpLjv",
        "colab": {
          "base_uri": "https://localhost:8080/"
        },
        "outputId": "ebf0cbe8-8cb7-4059-9513-efd11332c6fd"
      },
      "execution_count": 36,
      "outputs": [
        {
          "output_type": "execute_result",
          "data": {
            "text/plain": [
              "[3, 2, 1, 'z', 'y']"
            ]
          },
          "metadata": {},
          "execution_count": 36
        }
      ],
      "id": "7D4Vl--JpLjv"
    },
    {
      "cell_type": "code",
      "source": [
        "lis[1:]"
      ],
      "metadata": {
        "id": "kouLqfampLnF",
        "colab": {
          "base_uri": "https://localhost:8080/"
        },
        "outputId": "553feaae-7b30-4648-c814-30ee67e20abb"
      },
      "execution_count": 37,
      "outputs": [
        {
          "output_type": "execute_result",
          "data": {
            "text/plain": [
              "['y', 'z', 1, 2, 3]"
            ]
          },
          "metadata": {},
          "execution_count": 37
        }
      ],
      "id": "kouLqfampLnF"
    },
    {
      "cell_type": "code",
      "source": [
        "lis[:1]"
      ],
      "metadata": {
        "id": "RLMwZqEPpLp7",
        "colab": {
          "base_uri": "https://localhost:8080/"
        },
        "outputId": "f981f390-1b3c-49b7-fa44-f4f485c29ffc"
      },
      "execution_count": 38,
      "outputs": [
        {
          "output_type": "execute_result",
          "data": {
            "text/plain": [
              "['x']"
            ]
          },
          "metadata": {},
          "execution_count": 38
        }
      ],
      "id": "RLMwZqEPpLp7"
    },
    {
      "cell_type": "code",
      "source": [
        "lis.append(4)\n",
        "lis"
      ],
      "metadata": {
        "id": "PSrkPrTopP-O",
        "colab": {
          "base_uri": "https://localhost:8080/"
        },
        "outputId": "2b656255-dca6-4ff7-cc61-0ceaf66c1563"
      },
      "execution_count": 39,
      "outputs": [
        {
          "output_type": "execute_result",
          "data": {
            "text/plain": [
              "['x', 'y', 'z', 1, 2, 3, 4]"
            ]
          },
          "metadata": {},
          "execution_count": 39
        }
      ],
      "id": "PSrkPrTopP-O"
    },
    {
      "cell_type": "code",
      "source": [
        "lis.pop(3)\n",
        "lis"
      ],
      "metadata": {
        "id": "-c28xMmcpUqP",
        "colab": {
          "base_uri": "https://localhost:8080/"
        },
        "outputId": "141414b5-12fc-432b-a0df-237126536c46"
      },
      "execution_count": 40,
      "outputs": [
        {
          "output_type": "execute_result",
          "data": {
            "text/plain": [
              "['x', 'y', 'z', 2, 3, 4]"
            ]
          },
          "metadata": {},
          "execution_count": 40
        }
      ],
      "id": "-c28xMmcpUqP"
    },
    {
      "cell_type": "code",
      "source": [
        "list(\"Hello, world\")"
      ],
      "metadata": {
        "id": "UPgo4WMFpdRz",
        "colab": {
          "base_uri": "https://localhost:8080/"
        },
        "outputId": "b2034197-aeca-4da7-9e98-06959ad95e61"
      },
      "execution_count": 41,
      "outputs": [
        {
          "output_type": "execute_result",
          "data": {
            "text/plain": [
              "['H', 'e', 'l', 'l', 'o', ',', ' ', 'w', 'o', 'r', 'l', 'd']"
            ]
          },
          "metadata": {},
          "execution_count": 41
        }
      ],
      "id": "UPgo4WMFpdRz"
    },
    {
      "cell_type": "code",
      "source": [
        "'_'.join(['a', 'b', 'c'])"
      ],
      "metadata": {
        "id": "dD4wHts2pdUs",
        "colab": {
          "base_uri": "https://localhost:8080/",
          "height": 35
        },
        "outputId": "ff49e29c-84ce-42fb-c63c-1df0964ee58a"
      },
      "execution_count": 42,
      "outputs": [
        {
          "output_type": "execute_result",
          "data": {
            "text/plain": [
              "'a_b_c'"
            ],
            "application/vnd.google.colaboratory.intrinsic+json": {
              "type": "string"
            }
          },
          "metadata": {},
          "execution_count": 42
        }
      ],
      "id": "dD4wHts2pdUs"
    },
    {
      "cell_type": "markdown",
      "source": [
        "Dictionaries"
      ],
      "metadata": {
        "id": "7OrFMQQCpszD"
      },
      "id": "7OrFMQQCpszD"
    },
    {
      "cell_type": "code",
      "source": [
        "dic = {'a' : 1, 'b' : 2, 'c' : 3}\n",
        "dic"
      ],
      "metadata": {
        "id": "OnOINe8upuOk",
        "colab": {
          "base_uri": "https://localhost:8080/"
        },
        "outputId": "aa04892f-f52d-4e05-c498-41085fb2387d"
      },
      "execution_count": 43,
      "outputs": [
        {
          "output_type": "execute_result",
          "data": {
            "text/plain": [
              "{'a': 1, 'b': 2, 'c': 3}"
            ]
          },
          "metadata": {},
          "execution_count": 43
        }
      ],
      "id": "OnOINe8upuOk"
    },
    {
      "cell_type": "code",
      "source": [
        "dics = {'n':[1,2,4,5,]}"
      ],
      "metadata": {
        "id": "1-gDw4-3h0LS"
      },
      "id": "1-gDw4-3h0LS",
      "execution_count": 44,
      "outputs": []
    },
    {
      "cell_type": "code",
      "source": [
        "dic['d'] = 4\n",
        "dic"
      ],
      "metadata": {
        "id": "6Wt0kOnGpuh4",
        "colab": {
          "base_uri": "https://localhost:8080/"
        },
        "outputId": "cc01461a-5c8e-46ce-a32b-d32f929de4f5"
      },
      "execution_count": 45,
      "outputs": [
        {
          "output_type": "execute_result",
          "data": {
            "text/plain": [
              "{'a': 1, 'b': 2, 'c': 3, 'd': 4}"
            ]
          },
          "metadata": {},
          "execution_count": 45
        }
      ],
      "id": "6Wt0kOnGpuh4"
    },
    {
      "cell_type": "code",
      "source": [
        "dic.keys()"
      ],
      "metadata": {
        "id": "fmVSqNqKpuVT",
        "colab": {
          "base_uri": "https://localhost:8080/"
        },
        "outputId": "8bd3fdc8-9a24-48c3-bd9f-08c92b9ba08f"
      },
      "execution_count": 46,
      "outputs": [
        {
          "output_type": "execute_result",
          "data": {
            "text/plain": [
              "dict_keys(['a', 'b', 'c', 'd'])"
            ]
          },
          "metadata": {},
          "execution_count": 46
        }
      ],
      "id": "fmVSqNqKpuVT"
    },
    {
      "cell_type": "code",
      "source": [
        "dic.values()"
      ],
      "metadata": {
        "id": "Tt2o4UySpuSh",
        "colab": {
          "base_uri": "https://localhost:8080/"
        },
        "outputId": "d5e66e5b-203a-4207-8875-1514ee5b68ca"
      },
      "execution_count": 47,
      "outputs": [
        {
          "output_type": "execute_result",
          "data": {
            "text/plain": [
              "dict_values([1, 2, 3, 4])"
            ]
          },
          "metadata": {},
          "execution_count": 47
        }
      ],
      "id": "Tt2o4UySpuSh"
    },
    {
      "cell_type": "code",
      "source": [
        "dic.get('c') == dic['c']"
      ],
      "metadata": {
        "id": "WBMWxaoTp_56",
        "colab": {
          "base_uri": "https://localhost:8080/"
        },
        "outputId": "1321c634-9337-4b20-8478-cbcb53d490fa"
      },
      "execution_count": 48,
      "outputs": [
        {
          "output_type": "execute_result",
          "data": {
            "text/plain": [
              "True"
            ]
          },
          "metadata": {},
          "execution_count": 48
        }
      ],
      "id": "WBMWxaoTp_56"
    },
    {
      "cell_type": "code",
      "source": [
        "dic.update({'e' : 5}) # == dic['e'] = 5\n",
        "dic"
      ],
      "metadata": {
        "id": "452iR0G2p_3M",
        "colab": {
          "base_uri": "https://localhost:8080/"
        },
        "outputId": "5c20ae72-cef7-48d5-9c9b-b8dd44b99809"
      },
      "execution_count": 49,
      "outputs": [
        {
          "output_type": "execute_result",
          "data": {
            "text/plain": [
              "{'a': 1, 'b': 2, 'c': 3, 'd': 4, 'e': 5}"
            ]
          },
          "metadata": {},
          "execution_count": 49
        }
      ],
      "id": "452iR0G2p_3M"
    },
    {
      "cell_type": "markdown",
      "id": "7654801f",
      "metadata": {
        "id": "7654801f"
      },
      "source": [
        "# Exercise 1"
      ]
    },
    {
      "cell_type": "markdown",
      "id": "af4e98c2",
      "metadata": {
        "id": "af4e98c2"
      },
      "source": [
        "1) Complete the following tasks:"
      ]
    },
    {
      "cell_type": "code",
      "execution_count": 50,
      "id": "eb353fc5",
      "metadata": {
        "id": "eb353fc5",
        "colab": {
          "base_uri": "https://localhost:8080/"
        },
        "outputId": "32f69fac-68c5-47f9-c58d-9ffbaf52a30c"
      },
      "outputs": [
        {
          "output_type": "stream",
          "name": "stdout",
          "text": [
            "1.1 Result of 138 divided by 6: 23.0\n"
          ]
        }
      ],
      "source": [
        "# print the result of dividing 138 by 6\n",
        "result_1 = 138 / 6\n",
        "print(\"1.1 Result of 138 divided by 6:\", result_1)"
      ]
    },
    {
      "cell_type": "code",
      "execution_count": 51,
      "id": "755dae22",
      "metadata": {
        "id": "755dae22",
        "colab": {
          "base_uri": "https://localhost:8080/"
        },
        "outputId": "c76fcc3d-b7c7-4ebf-da46-64e3adc0b9b8"
      },
      "outputs": [
        {
          "output_type": "stream",
          "name": "stdout",
          "text": [
            "1.2 Result of (27 + 39) - 44: 22\n"
          ]
        }
      ],
      "source": [
        "# print the result of adding 27 and 39 and then subtracting 44\n",
        "result_2 = (27 + 39) - 44\n",
        "print(\"1.2 Result of (27 + 39) - 44:\", result_2)"
      ]
    },
    {
      "cell_type": "code",
      "execution_count": 52,
      "id": "a4d8a533",
      "metadata": {
        "id": "a4d8a533",
        "colab": {
          "base_uri": "https://localhost:8080/"
        },
        "outputId": "b49d15bb-fc7f-4b85-d15e-a24cdf7600e9"
      },
      "outputs": [
        {
          "output_type": "stream",
          "name": "stdout",
          "text": [
            "1.3 Result of (19 + 6) * 4: 100\n"
          ]
        }
      ],
      "source": [
        "# print the result of adding 19 and 6 and then multiplying that sum by 4\n",
        "result_3 = (19 + 6) * 4\n",
        "print(\"1.3 Result of (19 + 6) * 4:\", result_3)"
      ]
    },
    {
      "cell_type": "markdown",
      "id": "6bacecf0",
      "metadata": {
        "id": "6bacecf0"
      },
      "source": [
        "2) Correct the following expressions:"
      ]
    },
    {
      "cell_type": "code",
      "execution_count": 55,
      "id": "86810f2c",
      "metadata": {
        "id": "86810f2c",
        "colab": {
          "base_uri": "https://localhost:8080/"
        },
        "outputId": "08a0b903-23b6-4f62-94e6-f390fe51f4d1"
      },
      "outputs": [
        {
          "output_type": "stream",
          "name": "stdout",
          "text": [
            "10.0\n"
          ]
        }
      ],
      "source": [
        "# Correct the following expression so the answer is 10.\n",
        "# 6 + 14 / 2\n",
        "result_2_1 = (6 + 14) / 2\n",
        "print(result_2_1)"
      ]
    },
    {
      "cell_type": "code",
      "execution_count": 56,
      "id": "f9986e1c",
      "metadata": {
        "id": "f9986e1c",
        "colab": {
          "base_uri": "https://localhost:8080/"
        },
        "outputId": "28f4f6b0-7808-4977-ecfd-c7d95e51d874"
      },
      "outputs": [
        {
          "output_type": "stream",
          "name": "stdout",
          "text": [
            "100\n"
          ]
        }
      ],
      "source": [
        "# Correct the following expression so the answer is 100.\n",
        "# 4 * 3 + 2 ** 2\n",
        "result_2_2 = 4 * (3 + 2) ** 2\n",
        "print(result_2_2)"
      ]
    },
    {
      "cell_type": "markdown",
      "id": "ec946810",
      "metadata": {
        "id": "ec946810"
      },
      "source": [
        "# Exercise 2"
      ]
    },
    {
      "cell_type": "code",
      "source": [
        "from google.colab import drive\n",
        "drive.mount('/content/drive')"
      ],
      "metadata": {
        "id": "5Q2pX91quv8y",
        "colab": {
          "base_uri": "https://localhost:8080/"
        },
        "outputId": "e1019ff0-7a24-44b0-e95b-4d36b7609d78"
      },
      "id": "5Q2pX91quv8y",
      "execution_count": 57,
      "outputs": [
        {
          "output_type": "stream",
          "name": "stdout",
          "text": [
            "Mounted at /content/drive\n"
          ]
        }
      ]
    },
    {
      "cell_type": "markdown",
      "id": "077c046f",
      "metadata": {
        "id": "077c046f"
      },
      "source": [
        "1) What value does each of the following expressions evaluate to? Verify your answers by typing the expressions into the notebook cells.\n",
        "\n",
        "1. `'Computer' + ' Science'`\n",
        "2. `'Darwin\\'s'`\n",
        "3. `'H20' * 3`\n",
        "4. `'C02' * 0`"
      ]
    },
    {
      "cell_type": "code",
      "execution_count": 58,
      "id": "ef7ad063",
      "metadata": {
        "id": "ef7ad063",
        "colab": {
          "base_uri": "https://localhost:8080/"
        },
        "outputId": "d6fc8af7-752d-450f-ea71-81eea2caf180"
      },
      "outputs": [
        {
          "output_type": "stream",
          "name": "stdout",
          "text": [
            "1. 'Computer' + ' Science' = Computer Science\n"
          ]
        }
      ],
      "source": [
        "result_2_1_1 = 'Computer' + ' Science'\n",
        "print(\"1. 'Computer' + ' Science' =\", result_2_1_1)"
      ]
    },
    {
      "cell_type": "code",
      "source": [
        "result_2_1_2 = 'Darwin\\'s'\n",
        "print(\"2. 'Darwin\\\\'s' =\", result_2_1_2)"
      ],
      "metadata": {
        "colab": {
          "base_uri": "https://localhost:8080/"
        },
        "id": "-D-AV07vA0oJ",
        "outputId": "8353801a-9626-4f9e-d1db-b45baca2aa99"
      },
      "id": "-D-AV07vA0oJ",
      "execution_count": 59,
      "outputs": [
        {
          "output_type": "stream",
          "name": "stdout",
          "text": [
            "2. 'Darwin\\'s' = Darwin's\n"
          ]
        }
      ]
    },
    {
      "cell_type": "code",
      "source": [
        "result_2_1_3 = 'H20' * 3\n",
        "print(\"3. 'H20' * 3 =\", result_2_1_3)"
      ],
      "metadata": {
        "colab": {
          "base_uri": "https://localhost:8080/"
        },
        "id": "EOM-_3KWBArv",
        "outputId": "9caafd31-135f-4e1d-9940-d813b651341c"
      },
      "id": "EOM-_3KWBArv",
      "execution_count": 60,
      "outputs": [
        {
          "output_type": "stream",
          "name": "stdout",
          "text": [
            "3. 'H20' * 3 = H20H20H20\n"
          ]
        }
      ]
    },
    {
      "cell_type": "code",
      "source": [
        "result_2_1_4 = 'C02' * 0\n",
        "print(\"4. 'C02' * 0 =\", result_2_1_4)"
      ],
      "metadata": {
        "colab": {
          "base_uri": "https://localhost:8080/"
        },
        "id": "Uqk2e_3CBLD3",
        "outputId": "d3bd5265-2b06-4f58-dd4c-d61e27baea39"
      },
      "id": "Uqk2e_3CBLD3",
      "execution_count": 61,
      "outputs": [
        {
          "output_type": "stream",
          "name": "stdout",
          "text": [
            "4. 'C02' * 0 = \n"
          ]
        }
      ]
    },
    {
      "cell_type": "markdown",
      "id": "5d3f4ef4",
      "metadata": {
        "id": "5d3f4ef4"
      },
      "source": [
        "2) Express each of the following phrases as Python strings using the appropriate type of quotation marks (single, double, or triple) and, if necessary, escape sequences. There is more than one correct answer for each of these phrases.\n",
        "\n",
        "1. `They'll hibernate during the winter.`\n",
        "2. `\"Absolutely not,\" he said.`\n",
        "3. `\"He said, 'Absolutely not,'\" recalled Mel.`\n",
        "4. `hydrogen sulfide`"
      ]
    },
    {
      "cell_type": "code",
      "execution_count": 62,
      "id": "feb1441d",
      "metadata": {
        "id": "feb1441d",
        "colab": {
          "base_uri": "https://localhost:8080/"
        },
        "outputId": "0d412024-7a8b-4b8d-a997-7f5a7b94a769"
      },
      "outputs": [
        {
          "output_type": "stream",
          "name": "stdout",
          "text": [
            "They'll hibernate during the winter.\n"
          ]
        }
      ],
      "source": [
        "phrase_1 = \"They'll hibernate during the winter.\"\n",
        "print(phrase_1)"
      ]
    },
    {
      "cell_type": "code",
      "source": [
        "phrase_2 = '\"Absolutely not,\" he said.'\n",
        "print(phrase_2)"
      ],
      "metadata": {
        "colab": {
          "base_uri": "https://localhost:8080/"
        },
        "id": "Zpl9ZdneCEgJ",
        "outputId": "46e5cc08-6e19-4d81-abd8-12b6e22606dc"
      },
      "id": "Zpl9ZdneCEgJ",
      "execution_count": 63,
      "outputs": [
        {
          "output_type": "stream",
          "name": "stdout",
          "text": [
            "\"Absolutely not,\" he said.\n"
          ]
        }
      ]
    },
    {
      "cell_type": "code",
      "source": [
        "phrase_3 = \"\"\"\\\"He said, 'Absolutely not,'\\\" recalled Mel.\"\"\"\n",
        "print(phrase_3)"
      ],
      "metadata": {
        "colab": {
          "base_uri": "https://localhost:8080/"
        },
        "id": "07A_I5bzCSz8",
        "outputId": "27a7c902-28aa-4896-f947-56bd4e31ee46"
      },
      "id": "07A_I5bzCSz8",
      "execution_count": 64,
      "outputs": [
        {
          "output_type": "stream",
          "name": "stdout",
          "text": [
            "\"He said, 'Absolutely not,'\" recalled Mel.\n"
          ]
        }
      ]
    },
    {
      "cell_type": "code",
      "source": [
        "phrase_4 = \"hydrogen sulfide\"\n",
        "print(phrase_4)"
      ],
      "metadata": {
        "colab": {
          "base_uri": "https://localhost:8080/"
        },
        "id": "ioJW-pkDCYe9",
        "outputId": "03430081-a52f-4eec-b0b5-249dbc3e6181"
      },
      "id": "ioJW-pkDCYe9",
      "execution_count": 65,
      "outputs": [
        {
          "output_type": "stream",
          "name": "stdout",
          "text": [
            "hydrogen sulfide\n"
          ]
        }
      ]
    },
    {
      "cell_type": "markdown",
      "id": "126c3b69",
      "metadata": {
        "id": "126c3b69"
      },
      "source": [
        "# Exercise 3"
      ]
    },
    {
      "cell_type": "markdown",
      "id": "2501755c",
      "metadata": {
        "id": "2501755c"
      },
      "source": [
        "1) Fix any error in the following code:"
      ]
    },
    {
      "cell_type": "code",
      "execution_count": 66,
      "id": "a2f8eeba",
      "metadata": {
        "id": "a2f8eeba",
        "colab": {
          "base_uri": "https://localhost:8080/"
        },
        "outputId": "9d624258-9213-49c4-d06d-71a534bb24d7"
      },
      "outputs": [
        {
          "output_type": "stream",
          "name": "stdout",
          "text": [
            "The street number of my house is 123\n"
          ]
        }
      ],
      "source": [
        "house_num = 123\n",
        "#print('the street number of my house is ' + house_num)\n",
        "print('The street number of my house is ' + str(house_num))"
      ]
    },
    {
      "cell_type": "markdown",
      "id": "b279e04b",
      "metadata": {
        "id": "b279e04b"
      },
      "source": [
        "2) Fix any error in the following code:"
      ]
    },
    {
      "cell_type": "code",
      "execution_count": 68,
      "id": "d38bd8a7",
      "metadata": {
        "id": "d38bd8a7",
        "colab": {
          "base_uri": "https://localhost:8080/"
        },
        "outputId": "f74539c8-72da-4846-a0aa-92aa98018b30"
      },
      "outputs": [
        {
          "output_type": "stream",
          "name": "stdout",
          "text": [
            "Chris Hemsworth\n"
          ]
        }
      ],
      "source": [
        "actor = 'Chris Hemsworth'\n",
        "#print(ACTOR)\n",
        "print(actor)\n"
      ]
    },
    {
      "cell_type": "markdown",
      "id": "ee2eab09",
      "metadata": {
        "id": "ee2eab09"
      },
      "source": [
        "# Exercise 4"
      ]
    },
    {
      "cell_type": "markdown",
      "id": "b4787b11",
      "metadata": {
        "id": "b4787b11"
      },
      "source": [
        "1) Write a program that tests `test_string1` and `test_string2` with the`.isalpha()` method."
      ]
    },
    {
      "cell_type": "code",
      "execution_count": 69,
      "id": "788131b6",
      "metadata": {
        "id": "788131b6",
        "colab": {
          "base_uri": "https://localhost:8080/"
        },
        "outputId": "f98fffb0-7c4f-4123-a5bb-2e4ab19abd10"
      },
      "outputs": [
        {
          "output_type": "stream",
          "name": "stdout",
          "text": [
            "Testing test_string1: alphabetical\n",
            "Is test_string1 alphabetic? True\n"
          ]
        }
      ],
      "source": [
        "test_string1 = 'alphabetical'\n",
        "print(\"Testing test_string1:\", test_string1)\n",
        "print(\"Is test_string1 alphabetic?\", test_string1.isalpha())"
      ]
    },
    {
      "cell_type": "code",
      "execution_count": 70,
      "id": "f3076913",
      "metadata": {
        "id": "f3076913",
        "colab": {
          "base_uri": "https://localhost:8080/"
        },
        "outputId": "7354df0e-403c-4279-cabe-4ce3e69c3d64"
      },
      "outputs": [
        {
          "output_type": "stream",
          "name": "stdout",
          "text": [
            "\n",
            "Testing test_string2: Are spaces and punctuation alphabetical?\n",
            "Is test_string2 alphabetic? False\n"
          ]
        }
      ],
      "source": [
        "test_string2 = 'Are spaces and punctuation alphabetical?'\n",
        "print(\"\\nTesting test_string2:\", test_string2)\n",
        "print(\"Is test_string2 alphabetic?\", test_string2.isalpha())"
      ]
    },
    {
      "cell_type": "markdown",
      "id": "09a9b168",
      "metadata": {
        "id": "09a9b168"
      },
      "source": [
        "2) Write a program that does the following:\n",
        "- Test the `menu` string variable for `'pizza'`, `'soup'`, and `'dessert'` using the `in` keyword.\n",
        "- Print each test on a separate line.\n",
        "- Print a description for each test (e.g.`'Pizza in menu is True'`)."
      ]
    },
    {
      "cell_type": "code",
      "execution_count": 71,
      "id": "1090d6b8",
      "metadata": {
        "id": "1090d6b8",
        "colab": {
          "base_uri": "https://localhost:8080/"
        },
        "outputId": "5bec4e55-7a69-40b4-983d-aff5bde14ba4"
      },
      "outputs": [
        {
          "output_type": "stream",
          "name": "stdout",
          "text": [
            "Pizza in menu is True\n",
            "Soup in menu is False\n",
            "Dessert in menu is True\n"
          ]
        }
      ],
      "source": [
        "menu = 'salad, pasta, sandwich, pizza, drinks, dessert'\n",
        "\n",
        "# Test for 'pizza' in the menu\n",
        "pizza_check = 'pizza' in menu\n",
        "print('Pizza in menu is', pizza_check)\n",
        "\n",
        "# Test for 'soup' in the menu\n",
        "soup_check = 'soup' in menu\n",
        "print('Soup in menu is', soup_check)\n",
        "\n",
        "# Test for 'dessert' in the menu\n",
        "dessert_check = 'dessert' in menu\n",
        "print('Dessert in menu is', dessert_check)"
      ]
    },
    {
      "cell_type": "markdown",
      "id": "86c94cb8",
      "metadata": {
        "id": "86c94cb8"
      },
      "source": [
        "3) Write a program where a user can check if an item is on the menu.\n",
        "- Use the `menu` from the previous exercise and add some additional items.\n",
        "- The program should be able to ignore case mismatch so that `'Salad'` is found in `'salad, pasta, ...'`."
      ]
    },
    {
      "cell_type": "code",
      "execution_count": 72,
      "id": "be9cbad7",
      "metadata": {
        "id": "be9cbad7",
        "colab": {
          "base_uri": "https://localhost:8080/"
        },
        "outputId": "fda1bd8c-1741-4968-ff50-4ffc17f1ab6e"
      },
      "outputs": [
        {
          "output_type": "stream",
          "name": "stdout",
          "text": [
            "Enter a menu item to check: salapao\n",
            "salapao in menu is False\n"
          ]
        }
      ],
      "source": [
        "# Define the menu string with extra items\n",
        "menu = 'salad, pasta, sandwich, pizza, drinks, dessert, burger, soup, steak'\n",
        "\n",
        "# Get user input\n",
        "user_item = input(\"Enter a menu item to check: \")\n",
        "\n",
        "# Normalize both menu and user input to lowercase\n",
        "menu_lower = menu.lower()\n",
        "user_item_lower = user_item.lower()\n",
        "\n",
        "# Print the result using the 'in' keyword directly\n",
        "print(f\"{user_item} in menu is\", user_item_lower in menu_lower)"
      ]
    },
    {
      "cell_type": "markdown",
      "id": "a174e9be",
      "metadata": {
        "id": "a174e9be"
      },
      "source": [
        "4) Fix any error in the following code:"
      ]
    },
    {
      "cell_type": "code",
      "execution_count": 74,
      "id": "c27f234c",
      "metadata": {
        "id": "c27f234c",
        "colab": {
          "base_uri": "https://localhost:8080/"
        },
        "outputId": "b2bc0d58-f9f5-4f92-8fb3-1ea4bf1ab61a"
      },
      "outputs": [
        {
          "output_type": "stream",
          "name": "stdout",
          "text": [
            "Red in paint colors = True\n"
          ]
        }
      ],
      "source": [
        "paint_colors = 'red, blue, green, black, orange, pink'\n",
        "#print('Red in paint colors = ', red in paint_colors)\n",
        "\n",
        "# Corrected by putting 'red' in quotes to treat it as a string\n",
        "print('Red in paint colors =', 'red' in paint_colors)\n"
      ]
    },
    {
      "cell_type": "markdown",
      "id": "c1d5573e",
      "metadata": {
        "id": "c1d5573e"
      },
      "source": [
        "# Exercise 5"
      ]
    },
    {
      "cell_type": "markdown",
      "id": "8993d758",
      "metadata": {
        "id": "8993d758"
      },
      "source": [
        "1) Slice `long_word` to print `\"act\"` and to print `\"tic\"`."
      ]
    },
    {
      "cell_type": "code",
      "execution_count": 80,
      "id": "a9cf13bd",
      "metadata": {
        "id": "a9cf13bd",
        "colab": {
          "base_uri": "https://localhost:8080/"
        },
        "outputId": "597ba35b-03e8-4391-b3e0-7eea036b17e5"
      },
      "outputs": [
        {
          "output_type": "stream",
          "name": "stdout",
          "text": [
            "act\n",
            "tic\n"
          ]
        }
      ],
      "source": [
        "long_word = \"characteristics\"\n",
        "\n",
        "# Slice to get \"act\"\n",
        "print(long_word[4:7])\n",
        "\n",
        "# Slice to get \"tic\"\n",
        "print(long_word[11:14])"
      ]
    },
    {
      "cell_type": "markdown",
      "id": "51c3c52a",
      "metadata": {
        "id": "51c3c52a"
      },
      "source": [
        "2) Slice `long_word` to print `\"sequence\"`."
      ]
    },
    {
      "cell_type": "code",
      "execution_count": 79,
      "id": "81b78fee",
      "metadata": {
        "id": "81b78fee",
        "colab": {
          "base_uri": "https://localhost:8080/"
        },
        "outputId": "ba12666f-f620-444a-bd38-d38e9ac29c02"
      },
      "outputs": [
        {
          "output_type": "stream",
          "name": "stdout",
          "text": [
            "sequence\n"
          ]
        }
      ],
      "source": [
        "long_word = \"Consequences\"\n",
        "\n",
        "# Slice from index 3 to 11 (exclusive) to get \"sequence\"\n",
        "print(long_word[3:11])"
      ]
    },
    {
      "cell_type": "markdown",
      "id": "3804f0df",
      "metadata": {
        "id": "3804f0df"
      },
      "source": [
        "3) Print the first half of the `long_word`."
      ]
    },
    {
      "cell_type": "code",
      "execution_count": 81,
      "id": "062b0c70",
      "metadata": {
        "id": "062b0c70",
        "colab": {
          "base_uri": "https://localhost:8080/"
        },
        "outputId": "75f7164a-f015-4098-b4b5-955fa120f728"
      },
      "outputs": [
        {
          "output_type": "stream",
          "name": "stdout",
          "text": [
            "Conseq\n"
          ]
        }
      ],
      "source": [
        "long_word = \"Consequences\"\n",
        "print(long_word[:6])"
      ]
    },
    {
      "cell_type": "markdown",
      "id": "4f1c965a",
      "metadata": {
        "id": "4f1c965a"
      },
      "source": [
        "4) Print the second half of the `long_word`."
      ]
    },
    {
      "cell_type": "code",
      "execution_count": 82,
      "id": "b58277d8",
      "metadata": {
        "id": "b58277d8",
        "colab": {
          "base_uri": "https://localhost:8080/"
        },
        "outputId": "c055265f-d24f-4b78-9337-cab86703700c"
      },
      "outputs": [
        {
          "output_type": "stream",
          "name": "stdout",
          "text": [
            "uences\n"
          ]
        }
      ],
      "source": [
        "long_word = \"Consequences\"\n",
        "print(long_word[6:])"
      ]
    },
    {
      "cell_type": "markdown",
      "id": "6733ff8e",
      "metadata": {
        "id": "6733ff8e"
      },
      "source": [
        "# Exercise 6"
      ]
    },
    {
      "cell_type": "markdown",
      "id": "1e50ad98",
      "metadata": {
        "id": "1e50ad98"
      },
      "source": [
        "1) Find the occurences of the letters `\"a\"` and `\"t\"` in the `movie`."
      ]
    },
    {
      "cell_type": "code",
      "execution_count": 84,
      "id": "7a517f61",
      "metadata": {
        "id": "7a517f61",
        "colab": {
          "base_uri": "https://localhost:8080/"
        },
        "outputId": "faede2ab-dbe5-4500-feaf-00b34a819f6d"
      },
      "outputs": [
        {
          "output_type": "stream",
          "name": "stdout",
          "text": [
            "Occurrences of 'a': 5\n",
            "Occurrences of 't': 4\n"
          ]
        }
      ],
      "source": [
        "movie = 'Battlestar Galactica'\n",
        "\n",
        "# Use the .count() method to count each letter\n",
        "a_count = movie.count('a')\n",
        "t_count = movie.count('t')\n",
        "\n",
        "# Print the results\n",
        "print(\"Occurrences of 'a':\", a_count)\n",
        "print(\"Occurrences of 't':\", t_count)"
      ]
    },
    {
      "cell_type": "markdown",
      "id": "74fa818d",
      "metadata": {
        "id": "74fa818d"
      },
      "source": [
        "2) Print a substring of `movie` from the location of the first and second `\"a\"`."
      ]
    },
    {
      "cell_type": "code",
      "execution_count": 86,
      "id": "3ebc3e39",
      "metadata": {
        "id": "3ebc3e39",
        "colab": {
          "base_uri": "https://localhost:8080/"
        },
        "outputId": "4b4aeaf7-bf5f-4314-d71b-87c6ca36ad6f"
      },
      "outputs": [
        {
          "output_type": "stream",
          "name": "stdout",
          "text": [
            "attlesta\n"
          ]
        }
      ],
      "source": [
        "movie = 'Battlestar Galactica'\n",
        "\n",
        "# Find the index of the first 'a'\n",
        "first_a = movie.find('a')\n",
        "\n",
        "# Find the index of the second 'a' (search after the first one)\n",
        "second_a = movie.find('a', first_a + 1)\n",
        "\n",
        "# Slice from first 'a' to second 'a' (inclusive)\n",
        "print(movie[first_a : second_a + 1])"
      ]
    },
    {
      "cell_type": "markdown",
      "id": "6edbd269",
      "metadata": {
        "id": "6edbd269"
      },
      "source": [
        "3) Join the letters in the list `letters` with an asterisk `\"*\"`."
      ]
    },
    {
      "cell_type": "code",
      "execution_count": 87,
      "id": "2d9be106",
      "metadata": {
        "id": "2d9be106",
        "colab": {
          "base_uri": "https://localhost:8080/"
        },
        "outputId": "c608e515-c8ee-4835-ebad-c6a53706dc04"
      },
      "outputs": [
        {
          "output_type": "stream",
          "name": "stdout",
          "text": [
            "t*w*i*n*k*l*e\n"
          ]
        }
      ],
      "source": [
        "letters = ['t', 'w', 'i', 'n', 'k', 'l', 'e']\n",
        "result = '*'.join(letters)\n",
        "print(result)"
      ]
    },
    {
      "cell_type": "markdown",
      "id": "b6746bdf",
      "metadata": {
        "id": "b6746bdf"
      },
      "source": [
        "# Exercise 7"
      ]
    },
    {
      "cell_type": "markdown",
      "id": "cee16d55",
      "metadata": {
        "id": "cee16d55"
      },
      "source": [
        "1) Write a program that does the following:\n",
        "\n",
        "- Create a list, `three_words`, containing three different capitalized word strings.\n",
        "- Print `three_words`.\n",
        "- Modify the first item in `three_words` to uppercase.\n",
        "- Modify the third item to swapcase.\n",
        "- Print `three_words`."
      ]
    },
    {
      "cell_type": "code",
      "execution_count": 88,
      "id": "d508ba6e",
      "metadata": {
        "id": "d508ba6e",
        "colab": {
          "base_uri": "https://localhost:8080/"
        },
        "outputId": "6d823eb5-7487-4e35-d7a9-fc3b8597310e"
      },
      "outputs": [
        {
          "output_type": "stream",
          "name": "stdout",
          "text": [
            "Original list: ['Apple', 'Banana', 'Cherry']\n",
            "Modified list: ['APPLE', 'Banana', 'cHERRY']\n"
          ]
        }
      ],
      "source": [
        "# Create a list with 3 capitalized words\n",
        "three_words = ['Apple', 'Banana', 'Cherry']\n",
        "\n",
        "# Print the original list\n",
        "print(\"Original list:\", three_words)\n",
        "\n",
        "# Modify the first item to uppercase\n",
        "three_words[0] = three_words[0].upper()\n",
        "\n",
        "# Modify the third item to swapcase\n",
        "three_words[2] = three_words[2].swapcase()\n",
        "\n",
        "# Print the modified list\n",
        "print(\"Modified list:\", three_words)"
      ]
    },
    {
      "cell_type": "markdown",
      "id": "0152db2f",
      "metadata": {
        "id": "0152db2f"
      },
      "source": [
        "2) Write a program that uses the `.insert()` method to insert a name from a user input into the `party_list` in the second position (index 1). Also print the updated list."
      ]
    },
    {
      "cell_type": "code",
      "execution_count": 89,
      "id": "b10f11d6",
      "metadata": {
        "id": "b10f11d6",
        "colab": {
          "base_uri": "https://localhost:8080/"
        },
        "outputId": "03b87bce-c89a-4271-9a92-168b9f9d7cfd"
      },
      "outputs": [
        {
          "output_type": "stream",
          "name": "stdout",
          "text": [
            "Enter a name to insert into the party list: Pine\n",
            "Updated party list: ['Joe', 'Pine', 'William', 'Peter']\n"
          ]
        }
      ],
      "source": [
        "# Original party list\n",
        "party_list = ['Joe', 'William', 'Peter']\n",
        "\n",
        "# Ask user for a name to insert\n",
        "name = input(\"Enter a name to insert into the party list: \")\n",
        "\n",
        "# Insert the name at index 1 (second position)\n",
        "party_list.insert(1, name)\n",
        "\n",
        "# Print the updated list\n",
        "print(\"Updated party list:\", party_list)"
      ]
    },
    {
      "cell_type": "markdown",
      "id": "d920b25a",
      "metadata": {
        "id": "d920b25a"
      },
      "source": [
        "3) Write a program that uses the `.pop()` method to remove and print the first and last items from the `names` list, and then prints the remaining list."
      ]
    },
    {
      "cell_type": "code",
      "execution_count": 90,
      "id": "3935f408",
      "metadata": {
        "id": "3935f408",
        "colab": {
          "base_uri": "https://localhost:8080/"
        },
        "outputId": "0bec2c03-d510-4d94-9c65-d1c42b0c46d9"
      },
      "outputs": [
        {
          "output_type": "stream",
          "name": "stdout",
          "text": [
            "First item removed: Noah\n",
            "Last item removed: Ethan\n",
            "Remaining names list:\n",
            "['William', 'James', 'Benjamin', 'Oliver', 'Alexander', 'Sebastian', 'David', 'Christopher', 'Ryan', 'Maximiliano', 'Frederick', 'Sam']\n"
          ]
        }
      ],
      "source": [
        "# Define the names list\n",
        "names = ['Noah', 'William', 'James', 'Benjamin', 'Oliver', 'Alexander', 'Sebastian',\n",
        "         'David', 'Christopher', 'Ryan', 'Maximiliano', 'Frederick', 'Sam', 'Ethan']\n",
        "\n",
        "# Use .pop() to remove the first item (index 0)\n",
        "first = names.pop(0)\n",
        "print(\"First item removed:\", first)\n",
        "\n",
        "# Use .pop() to remove the last item (default behavior)\n",
        "last = names.pop()\n",
        "print(\"Last item removed:\", last)\n",
        "\n",
        "# Print the remaining list\n",
        "print(\"Remaining names list:\")\n",
        "print(names)\n",
        "\n"
      ]
    },
    {
      "cell_type": "markdown",
      "id": "49fe6945",
      "metadata": {
        "id": "49fe6945"
      },
      "source": [
        "# Exercise 8"
      ]
    },
    {
      "cell_type": "markdown",
      "id": "1e11c837",
      "metadata": {
        "id": "1e11c837"
      },
      "source": [
        "1) Complete the following tasks:\n",
        "- Create a dictionary `my_dict` that contains the following two key/value pairs: `'food': 'chicken'` and `'drink': 'milk'`\n",
        "- Add the key/value pair `'dessert': 'melon cake'` to `my_dict`."
      ]
    },
    {
      "cell_type": "code",
      "execution_count": 91,
      "id": "6cf01cb4",
      "metadata": {
        "id": "6cf01cb4",
        "colab": {
          "base_uri": "https://localhost:8080/"
        },
        "outputId": "b36d65ae-7701-4f45-8110-fcd357fce075"
      },
      "outputs": [
        {
          "output_type": "stream",
          "name": "stdout",
          "text": [
            "{'food': 'chicken', 'drink': 'milk', 'dessert': 'melon cake'}\n"
          ]
        }
      ],
      "source": [
        "# Create the initial dictionary\n",
        "my_dict = {\n",
        "    'food': 'chicken',\n",
        "    'drink': 'milk'\n",
        "}\n",
        "\n",
        "# Add a new key/value pair\n",
        "my_dict['dessert'] = 'melon cake'\n",
        "\n",
        "# Print the final dictionary\n",
        "print(my_dict)\n"
      ]
    },
    {
      "cell_type": "markdown",
      "id": "22bb553f",
      "metadata": {
        "id": "22bb553f"
      },
      "source": [
        "2) Given the following dictionary:  \n",
        "\n",
        "```python\n",
        "    employees = {'Andrew':8806, 'Emily':67846, 'Peter':7654}\n",
        "```\n",
        "\n",
        "Write a code that prints all the key-value pairs and determines whether the keys 'Emily'  and 'Jordan' are in `employees`."
      ]
    },
    {
      "cell_type": "code",
      "execution_count": 93,
      "id": "a3c3a585",
      "metadata": {
        "id": "a3c3a585",
        "colab": {
          "base_uri": "https://localhost:8080/"
        },
        "outputId": "f681290c-0dcf-4ee4-fbb6-0b8254cdf0e5"
      },
      "outputs": [
        {
          "output_type": "stream",
          "name": "stdout",
          "text": [
            "Employee list:\n",
            "Andrew: 8806\n",
            "Emily: 67846\n",
            "Peter: 7654\n",
            "\n",
            "Emily in employees? True\n",
            "Jordan in employees? False\n"
          ]
        }
      ],
      "source": [
        "# Create the dictionary\n",
        "employees = {'Andrew': 8806, 'Emily': 67846, 'Peter': 7654}\n",
        "\n",
        "# Print key-value pairs (one by one)\n",
        "print(\"Employee list:\")\n",
        "print('Andrew:', employees['Andrew'])\n",
        "print('Emily:', employees['Emily'])\n",
        "print('Peter:', employees['Peter'])\n",
        "\n",
        "# Check if keys exist\n",
        "print('\\nEmily in employees?', 'Emily' in employees)\n",
        "print('Jordan in employees?', 'Jordan' in employees)\n"
      ]
    },
    {
      "cell_type": "markdown",
      "id": "08aa2e4a",
      "metadata": {
        "id": "08aa2e4a"
      },
      "source": [
        "3) Calculate the sum of the values in the dictionary `products`."
      ]
    },
    {
      "cell_type": "code",
      "execution_count": 94,
      "id": "9003fa7a",
      "metadata": {
        "id": "9003fa7a",
        "colab": {
          "base_uri": "https://localhost:8080/"
        },
        "outputId": "a8b908a4-d620-4af4-c8aa-d99e66bfa959"
      },
      "outputs": [
        {
          "output_type": "stream",
          "name": "stdout",
          "text": [
            "Total value of products: 150\n"
          ]
        }
      ],
      "source": [
        "products = {'soap': 20, 'shampoo': 80, 'toothpaste': 50}\n",
        "\n",
        "# Use sum() and .values() to add all the values\n",
        "total = sum(products.values())\n",
        "\n",
        "print(\"Total value of products:\", total)\n"
      ]
    }
  ],
  "metadata": {
    "kernelspec": {
      "display_name": "Python 3",
      "language": "python",
      "name": "python3"
    },
    "language_info": {
      "codemirror_mode": {
        "name": "ipython",
        "version": 3
      },
      "file_extension": ".py",
      "mimetype": "text/x-python",
      "name": "python",
      "nbconvert_exporter": "python",
      "pygments_lexer": "ipython3",
      "version": "3.8.8"
    },
    "colab": {
      "provenance": []
    }
  },
  "nbformat": 4,
  "nbformat_minor": 5
}
